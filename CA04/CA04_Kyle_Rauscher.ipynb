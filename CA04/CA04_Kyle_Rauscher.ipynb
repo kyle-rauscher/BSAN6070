{
  "nbformat": 4,
  "nbformat_minor": 0,
  "metadata": {
    "colab": {
      "provenance": []
    },
    "kernelspec": {
      "name": "python3",
      "display_name": "Python 3"
    },
    "language_info": {
      "name": "python"
    }
  },
  "cells": [
    {
      "cell_type": "markdown",
      "source": [
        "## **CA04 Assignment**\n",
        "By: *Kyle Rauscher*\n"
      ],
      "metadata": {
        "id": "ewO9PYGuNB41"
      }
    },
    {
      "cell_type": "markdown",
      "source": [
        "#1. Data Sources and Content"
      ],
      "metadata": {
        "id": "vD-7vFXtOGhS"
      }
    },
    {
      "cell_type": "code",
      "execution_count": 1,
      "metadata": {
        "id": "AyaJtjf8_ItV"
      },
      "outputs": [],
      "source": [
        "#import necessary and used packages\n",
        "import pandas as pd\n",
        "import numpy as np\n",
        "import matplotlib.pyplot as plt\n",
        "from scipy import stats\n",
        "import matplotlib.pyplot as plt\n",
        "from sklearn.tree import DecisionTreeClassifier\n",
        "from sklearn.ensemble import RandomForestClassifier\n",
        "from sklearn.ensemble import AdaBoostClassifier\n",
        "from sklearn.ensemble import GradientBoostingClassifier \n",
        "import xgboost as xgb \n",
        "from xgboost import XGBClassifier\n",
        "from sklearn.metrics import roc_auc_score"
      ]
    },
    {
      "cell_type": "code",
      "source": [
        "#read data from github link\n",
        "df = pd.read_csv(\"https://github.com/ArinB/MSBA-CA-03-Decision-Trees/blob/master/census_data.csv?raw=true\")"
      ],
      "metadata": {
        "id": "32AczRYlBdEg"
      },
      "execution_count": 2,
      "outputs": []
    },
    {
      "cell_type": "code",
      "source": [
        "# print the DataFrame's shape\n",
        "print(df.shape)"
      ],
      "metadata": {
        "colab": {
          "base_uri": "https://localhost:8080/"
        },
        "id": "f0lutSLC16_g",
        "outputId": "abed0952-e768-4b91-db23-708f47fd3066"
      },
      "execution_count": 3,
      "outputs": [
        {
          "output_type": "stream",
          "name": "stdout",
          "text": [
            "(48842, 11)\n"
          ]
        }
      ]
    },
    {
      "cell_type": "code",
      "source": [
        "# print the DataFrame's data types\n",
        "print(df.dtypes)"
      ],
      "metadata": {
        "colab": {
          "base_uri": "https://localhost:8080/"
        },
        "id": "KyrUNy662h4B",
        "outputId": "bbbbfe03-c35e-4f9f-b2df-b3643e28130e"
      },
      "execution_count": 4,
      "outputs": [
        {
          "output_type": "stream",
          "name": "stdout",
          "text": [
            "hours_per_week_bin    object\n",
            "occupation_bin        object\n",
            "msr_bin               object\n",
            "capital_gl_bin        object\n",
            "race_sex_bin          object\n",
            "education_num_bin     object\n",
            "education_bin         object\n",
            "workclass_bin         object\n",
            "age_bin               object\n",
            "flag                  object\n",
            "y                      int64\n",
            "dtype: object\n"
          ]
        }
      ]
    },
    {
      "cell_type": "code",
      "source": [
        "#see examples of the first few rows\n",
        "df.head()"
      ],
      "metadata": {
        "id": "pnxCvBcIBkqL",
        "colab": {
          "base_uri": "https://localhost:8080/",
          "height": 206
        },
        "outputId": "0624aebf-5f7f-47e6-b1fe-2b56b1c22136"
      },
      "execution_count": 5,
      "outputs": [
        {
          "output_type": "execute_result",
          "data": {
            "text/plain": [
              "  hours_per_week_bin occupation_bin  msr_bin capital_gl_bin race_sex_bin  \\\n",
              "0           b. 31-40   b. Mid - Low   b. Mid         c. > 0      c. High   \n",
              "1            a. 0-30        e. High  c. High         a. = 0      c. High   \n",
              "2           b. 31-40         a. Low   b. Mid         a. = 0      c. High   \n",
              "3           b. 31-40         a. Low  c. High         a. = 0       b. Mid   \n",
              "4           b. 31-40        e. High  c. High         a. = 0       a. Low   \n",
              "\n",
              "  education_num_bin education_bin workclass_bin            age_bin   flag  y  \n",
              "0             c. 13  c. Bachelors     b. income   d. 36-40 & 56-60  train  0  \n",
              "1             c. 13  c. Bachelors     b. income           e. 40-55  train  0  \n",
              "2           b. 9-12        b. Mid     b. income   d. 36-40 & 56-60  train  0  \n",
              "3            a. 0-8        a. Low     b. income           e. 40-55  train  0  \n",
              "4             c. 13  c. Bachelors     b. income  b. 26-30 & 71-100  train  0  "
            ],
            "text/html": [
              "\n",
              "  <div id=\"df-c0da8adc-f282-4f41-8ebc-eb5280796d54\">\n",
              "    <div class=\"colab-df-container\">\n",
              "      <div>\n",
              "<style scoped>\n",
              "    .dataframe tbody tr th:only-of-type {\n",
              "        vertical-align: middle;\n",
              "    }\n",
              "\n",
              "    .dataframe tbody tr th {\n",
              "        vertical-align: top;\n",
              "    }\n",
              "\n",
              "    .dataframe thead th {\n",
              "        text-align: right;\n",
              "    }\n",
              "</style>\n",
              "<table border=\"1\" class=\"dataframe\">\n",
              "  <thead>\n",
              "    <tr style=\"text-align: right;\">\n",
              "      <th></th>\n",
              "      <th>hours_per_week_bin</th>\n",
              "      <th>occupation_bin</th>\n",
              "      <th>msr_bin</th>\n",
              "      <th>capital_gl_bin</th>\n",
              "      <th>race_sex_bin</th>\n",
              "      <th>education_num_bin</th>\n",
              "      <th>education_bin</th>\n",
              "      <th>workclass_bin</th>\n",
              "      <th>age_bin</th>\n",
              "      <th>flag</th>\n",
              "      <th>y</th>\n",
              "    </tr>\n",
              "  </thead>\n",
              "  <tbody>\n",
              "    <tr>\n",
              "      <th>0</th>\n",
              "      <td>b. 31-40</td>\n",
              "      <td>b. Mid - Low</td>\n",
              "      <td>b. Mid</td>\n",
              "      <td>c. &gt; 0</td>\n",
              "      <td>c. High</td>\n",
              "      <td>c. 13</td>\n",
              "      <td>c. Bachelors</td>\n",
              "      <td>b. income</td>\n",
              "      <td>d. 36-40 &amp; 56-60</td>\n",
              "      <td>train</td>\n",
              "      <td>0</td>\n",
              "    </tr>\n",
              "    <tr>\n",
              "      <th>1</th>\n",
              "      <td>a. 0-30</td>\n",
              "      <td>e. High</td>\n",
              "      <td>c. High</td>\n",
              "      <td>a. = 0</td>\n",
              "      <td>c. High</td>\n",
              "      <td>c. 13</td>\n",
              "      <td>c. Bachelors</td>\n",
              "      <td>b. income</td>\n",
              "      <td>e. 40-55</td>\n",
              "      <td>train</td>\n",
              "      <td>0</td>\n",
              "    </tr>\n",
              "    <tr>\n",
              "      <th>2</th>\n",
              "      <td>b. 31-40</td>\n",
              "      <td>a. Low</td>\n",
              "      <td>b. Mid</td>\n",
              "      <td>a. = 0</td>\n",
              "      <td>c. High</td>\n",
              "      <td>b. 9-12</td>\n",
              "      <td>b. Mid</td>\n",
              "      <td>b. income</td>\n",
              "      <td>d. 36-40 &amp; 56-60</td>\n",
              "      <td>train</td>\n",
              "      <td>0</td>\n",
              "    </tr>\n",
              "    <tr>\n",
              "      <th>3</th>\n",
              "      <td>b. 31-40</td>\n",
              "      <td>a. Low</td>\n",
              "      <td>c. High</td>\n",
              "      <td>a. = 0</td>\n",
              "      <td>b. Mid</td>\n",
              "      <td>a. 0-8</td>\n",
              "      <td>a. Low</td>\n",
              "      <td>b. income</td>\n",
              "      <td>e. 40-55</td>\n",
              "      <td>train</td>\n",
              "      <td>0</td>\n",
              "    </tr>\n",
              "    <tr>\n",
              "      <th>4</th>\n",
              "      <td>b. 31-40</td>\n",
              "      <td>e. High</td>\n",
              "      <td>c. High</td>\n",
              "      <td>a. = 0</td>\n",
              "      <td>a. Low</td>\n",
              "      <td>c. 13</td>\n",
              "      <td>c. Bachelors</td>\n",
              "      <td>b. income</td>\n",
              "      <td>b. 26-30 &amp; 71-100</td>\n",
              "      <td>train</td>\n",
              "      <td>0</td>\n",
              "    </tr>\n",
              "  </tbody>\n",
              "</table>\n",
              "</div>\n",
              "      <button class=\"colab-df-convert\" onclick=\"convertToInteractive('df-c0da8adc-f282-4f41-8ebc-eb5280796d54')\"\n",
              "              title=\"Convert this dataframe to an interactive table.\"\n",
              "              style=\"display:none;\">\n",
              "        \n",
              "  <svg xmlns=\"http://www.w3.org/2000/svg\" height=\"24px\"viewBox=\"0 0 24 24\"\n",
              "       width=\"24px\">\n",
              "    <path d=\"M0 0h24v24H0V0z\" fill=\"none\"/>\n",
              "    <path d=\"M18.56 5.44l.94 2.06.94-2.06 2.06-.94-2.06-.94-.94-2.06-.94 2.06-2.06.94zm-11 1L8.5 8.5l.94-2.06 2.06-.94-2.06-.94L8.5 2.5l-.94 2.06-2.06.94zm10 10l.94 2.06.94-2.06 2.06-.94-2.06-.94-.94-2.06-.94 2.06-2.06.94z\"/><path d=\"M17.41 7.96l-1.37-1.37c-.4-.4-.92-.59-1.43-.59-.52 0-1.04.2-1.43.59L10.3 9.45l-7.72 7.72c-.78.78-.78 2.05 0 2.83L4 21.41c.39.39.9.59 1.41.59.51 0 1.02-.2 1.41-.59l7.78-7.78 2.81-2.81c.8-.78.8-2.07 0-2.86zM5.41 20L4 18.59l7.72-7.72 1.47 1.35L5.41 20z\"/>\n",
              "  </svg>\n",
              "      </button>\n",
              "      \n",
              "  <style>\n",
              "    .colab-df-container {\n",
              "      display:flex;\n",
              "      flex-wrap:wrap;\n",
              "      gap: 12px;\n",
              "    }\n",
              "\n",
              "    .colab-df-convert {\n",
              "      background-color: #E8F0FE;\n",
              "      border: none;\n",
              "      border-radius: 50%;\n",
              "      cursor: pointer;\n",
              "      display: none;\n",
              "      fill: #1967D2;\n",
              "      height: 32px;\n",
              "      padding: 0 0 0 0;\n",
              "      width: 32px;\n",
              "    }\n",
              "\n",
              "    .colab-df-convert:hover {\n",
              "      background-color: #E2EBFA;\n",
              "      box-shadow: 0px 1px 2px rgba(60, 64, 67, 0.3), 0px 1px 3px 1px rgba(60, 64, 67, 0.15);\n",
              "      fill: #174EA6;\n",
              "    }\n",
              "\n",
              "    [theme=dark] .colab-df-convert {\n",
              "      background-color: #3B4455;\n",
              "      fill: #D2E3FC;\n",
              "    }\n",
              "\n",
              "    [theme=dark] .colab-df-convert:hover {\n",
              "      background-color: #434B5C;\n",
              "      box-shadow: 0px 1px 3px 1px rgba(0, 0, 0, 0.15);\n",
              "      filter: drop-shadow(0px 1px 2px rgba(0, 0, 0, 0.3));\n",
              "      fill: #FFFFFF;\n",
              "    }\n",
              "  </style>\n",
              "\n",
              "      <script>\n",
              "        const buttonEl =\n",
              "          document.querySelector('#df-c0da8adc-f282-4f41-8ebc-eb5280796d54 button.colab-df-convert');\n",
              "        buttonEl.style.display =\n",
              "          google.colab.kernel.accessAllowed ? 'block' : 'none';\n",
              "\n",
              "        async function convertToInteractive(key) {\n",
              "          const element = document.querySelector('#df-c0da8adc-f282-4f41-8ebc-eb5280796d54');\n",
              "          const dataTable =\n",
              "            await google.colab.kernel.invokeFunction('convertToInteractive',\n",
              "                                                     [key], {});\n",
              "          if (!dataTable) return;\n",
              "\n",
              "          const docLinkHtml = 'Like what you see? Visit the ' +\n",
              "            '<a target=\"_blank\" href=https://colab.research.google.com/notebooks/data_table.ipynb>data table notebook</a>'\n",
              "            + ' to learn more about interactive tables.';\n",
              "          element.innerHTML = '';\n",
              "          dataTable['output_type'] = 'display_data';\n",
              "          await google.colab.output.renderOutput(dataTable, element);\n",
              "          const docLink = document.createElement('div');\n",
              "          docLink.innerHTML = docLinkHtml;\n",
              "          element.appendChild(docLink);\n",
              "        }\n",
              "      </script>\n",
              "    </div>\n",
              "  </div>\n",
              "  "
            ]
          },
          "metadata": {},
          "execution_count": 5
        }
      ]
    },
    {
      "cell_type": "code",
      "source": [
        "#split the dataset into the training set and the test set\n",
        "train_data=df[df['flag']=='train']\n",
        "test_data=df[df['flag']=='test']\n",
        "print(train_data.shape)\n",
        "print(test_data.shape)"
      ],
      "metadata": {
        "colab": {
          "base_uri": "https://localhost:8080/"
        },
        "id": "Z4fNwlT5zpqj",
        "outputId": "77293932-ea62-48da-ce6f-6a2ee298442a"
      },
      "execution_count": 6,
      "outputs": [
        {
          "output_type": "stream",
          "name": "stdout",
          "text": [
            "(32561, 11)\n",
            "(16281, 11)\n"
          ]
        }
      ]
    },
    {
      "cell_type": "code",
      "source": [
        "#encoding the x and y categorical varaibles into discrete values using hot encoding\n",
        "x_train = pd.get_dummies(train_data[['hours_per_week_bin','occupation_bin','msr_bin',\n",
        "                                     'capital_gl_bin','race_sex_bin','education_bin','age_bin']], drop_first=True) #drop first to avoid multicolinearity\n",
        "x_test = pd.get_dummies(test_data[['hours_per_week_bin','occupation_bin','msr_bin',\n",
        "                                   'capital_gl_bin','race_sex_bin','education_bin','age_bin']], drop_first=True)\n",
        "y_train=train_data['y']\n",
        "y_test=test_data['y']"
      ],
      "metadata": {
        "id": "oxRiQhGQ0Mwz"
      },
      "execution_count": 7,
      "outputs": []
    },
    {
      "cell_type": "code",
      "source": [
        "#check on the shape of the training dataset\n",
        "x_train.shape"
      ],
      "metadata": {
        "colab": {
          "base_uri": "https://localhost:8080/"
        },
        "id": "SVrUfXr4XpSQ",
        "outputId": "26dfb136-1658-4924-b375-61a403b9859e"
      },
      "execution_count": 9,
      "outputs": [
        {
          "output_type": "execute_result",
          "data": {
            "text/plain": [
              "(32561, 22)"
            ]
          },
          "metadata": {},
          "execution_count": 9
        }
      ]
    },
    {
      "cell_type": "markdown",
      "source": [
        "#2. Finding Optimal Value of a key Ensemble Method Hyperparameter"
      ],
      "metadata": {
        "id": "XCy_oQyHTtJj"
      }
    },
    {
      "cell_type": "code",
      "source": [
        "#Using the Decision Tree Classifier to determine the optimal max depth in regards to accuracy\n",
        "from sklearn.tree import DecisionTreeClassifier\n",
        "\n",
        "results = []\n",
        "max_depth_options = [2,4,6,8,10,12,14,16,18,20]\n",
        "\n",
        "for trees in max_depth_options:\n",
        "  model = DecisionTreeClassifier(max_depth=trees, random_state=101)\n",
        "  model.fit(x_train, y_train)\n",
        "  y_pred = model.predict(x_test)\n",
        "  accuracy = np.mean(y_test==y_pred)\n",
        "  results.append(accuracy)\n",
        "\n",
        "plt.figure(figsize=(8,4))\n",
        "pd.Series(results, max_depth_options).plot(color='darkred',marker='o', grid=True)\n",
        "plt.show()"
      ],
      "metadata": {
        "colab": {
          "base_uri": "https://localhost:8080/",
          "height": 265
        },
        "id": "3bitH26-Twxm",
        "outputId": "0fe1ac39-0728-4be8-cb86-69d4a5d8712f"
      },
      "execution_count": 11,
      "outputs": [
        {
          "output_type": "display_data",
          "data": {
            "text/plain": [
              "<Figure size 576x288 with 1 Axes>"
            ],
            "image/png": "[encoded data removed]"
          },
          "metadata": {
            "needs_background": "light"
          }
        }
      ]
    },
    {
      "cell_type": "markdown",
      "source": [
        "We can see from the graph that a max depth of 10 will provide us a model with the highest accuracy out of the possible depths given in our list.\n",
        "\n"
      ],
      "metadata": {
        "id": "8G22syUZcFFO"
      }
    },
    {
      "cell_type": "markdown",
      "source": [
        "#3. Building a Random Forest Model"
      ],
      "metadata": {
        "id": "yUEW1z2Ic1h3"
      }
    },
    {
      "cell_type": "code",
      "source": [
        "#RandomForestClassifier: N_Estimators vs Accuracy\n",
        "#This code uses a Random Forrest Classifier to test and determine the optimal number of n_estimators based on accuracy\n",
        "from sklearn.ensemble import RandomForestClassifier\n",
        "\n",
        "rfc_results = []\n",
        "n_estimator = [50,100,150,200,250,300,350,400,450,500]\n",
        "\n",
        "for trees in n_estimator:\n",
        "    rfc_model = RandomForestClassifier(n_estimators=trees, random_state=101)\n",
        "    rfc_model.fit(x_train, y_train)\n",
        "    y_pred = rfc_model.predict(x_test)\n",
        "    accuracy = np.mean(y_test==y_pred)\n",
        "    rfc_results.append(accuracy)\n",
        "\n",
        "plt.figure(figsize=(8,4))\n",
        "pd.Series(rfc_results, n_estimator).plot(color='blue',marker='x', grid=True)\n",
        "plt.show()"
      ],
      "metadata": {
        "colab": {
          "base_uri": "https://localhost:8080/",
          "height": 265
        },
        "id": "TAusAteXcI_q",
        "outputId": "15decdfc-aaaa-4221-8dae-0360e7352d86"
      },
      "execution_count": 15,
      "outputs": [
        {
          "output_type": "display_data",
          "data": {
            "text/plain": [
              "<Figure size 576x288 with 1 Axes>"
            ],
            "image/png": "[encoded data removed]"
          },
          "metadata": {
            "needs_background": "light"
          }
        }
      ]
    },
    {
      "cell_type": "code",
      "source": [
        "#RandomForestClassifier: N_Estimators vs AUC\n",
        "#This code uses a Random Forrest Classifier to test and determine the optimal number of n_estimators but instead based on auc value\n",
        "from sklearn.metrics import roc_auc_score\n",
        "\n",
        "rfc_auc_results = []\n",
        "n_estimator = [50,100,150,200,250,300,350,400,450,500]\n",
        "\n",
        "for trees in n_estimator:\n",
        "    rfc_model = RandomForestClassifier(n_estimators=trees, random_state=101)\n",
        "    rfc_model.fit(x_train, y_train)\n",
        "    y_pred = rfc_model.predict(x_test)\n",
        "    auc = roc_auc_score(y_test, y_pred)\n",
        "    rfc_auc_results.append(auc)\n",
        "\n",
        "plt.figure(figsize=(8,4))\n",
        "pd.Series(rfc_auc_results, n_estimator).plot(color='blue',marker='o', grid=True)\n",
        "plt.show()"
      ],
      "metadata": {
        "colab": {
          "base_uri": "https://localhost:8080/",
          "height": 265
        },
        "id": "1_TYWu9djW4a",
        "outputId": "14303056-a10c-4873-becf-47a6cd047450"
      },
      "execution_count": 16,
      "outputs": [
        {
          "output_type": "display_data",
          "data": {
            "text/plain": [
              "<Figure size 576x288 with 1 Axes>"
            ],
            "image/png": "[encoded data removed]"
          },
          "metadata": {
            "needs_background": "light"
          }
        }
      ]
    },
    {
      "cell_type": "markdown",
      "source": [
        "1. Write your observations about the Classifier’s behavior with respect to the number of estimators.\n",
        "\n",
        "It is interesting that is the highest accuracy at 100, then it continues downward until it reaches 250 and then again continually steadily climbs through the rest of the estimators. For auc, we see a similiar tread where it initially has a high value, drops until 250 estimators, then steadily climbs. However where accuracy continued to climb through all the values, auc trends dowards again once it hits 350.\n",
        "\n",
        "2. Is there an optimal value of the estimator within the given range?\n",
        "\n",
        "To determine an optimal value, we could use the three highest accuracies, of 500, 450, and 400. We can also look at the 3 highest aucm 50, 350, and 450. As in this case we see that 450 has both a top 3 accuracy and auc value, it would be the best estimator."
      ],
      "metadata": {
        "id": "SAZ4omPsc_Ld"
      }
    },
    {
      "cell_type": "markdown",
      "source": [
        "#4. Building AdaBoost, Gradient Boost, and XGB"
      ],
      "metadata": {
        "id": "jwR_x6wXkMLH"
      }
    },
    {
      "cell_type": "markdown",
      "source": [
        "##ADABOOST"
      ],
      "metadata": {
        "id": "Ry0VjD8WOfOW"
      }
    },
    {
      "cell_type": "code",
      "source": [
        "#AdaBoost: N_Estimators vs Accuracy\n",
        "#This code uses AdaBoost to test and determine the optimal number of n_estimators based on accuracy\n",
        "from sklearn.ensemble import AdaBoostClassifier\n",
        "\n",
        "ada_results = []\n",
        "n_estimator = [50,100,150,200,250,300,350,400,450,500]\n",
        "\n",
        "for trees in n_estimator:\n",
        "    ada_model = AdaBoostClassifier(n_estimators=trees, random_state=101)\n",
        "    ada_model.fit(x_train, y_train)\n",
        "    y_pred = ada_model.predict(x_test)\n",
        "    accuracy = np.mean(y_test==y_pred)\n",
        "    ada_results.append(accuracy)\n",
        "\n",
        "plt.figure(figsize=(8,4))\n",
        "pd.Series(ada_results, n_estimator).plot(color='orange',marker='x', grid=True)\n",
        "plt.show()"
      ],
      "metadata": {
        "colab": {
          "base_uri": "https://localhost:8080/",
          "height": 265
        },
        "id": "-moioKXjlgAs",
        "outputId": "2bf768e9-215e-422c-8b6c-c955e8f72fec"
      },
      "execution_count": 17,
      "outputs": [
        {
          "output_type": "display_data",
          "data": {
            "text/plain": [
              "<Figure size 576x288 with 1 Axes>"
            ],
            "image/png": "[encoded data removed]"
          },
          "metadata": {
            "needs_background": "light"
          }
        }
      ]
    },
    {
      "cell_type": "code",
      "source": [
        "#AdaBoost: N_Estimators vs AUC\n",
        "#This code uses a AdaBoost to test and determine the optimal number of n_estimators but instead based on auc value\n",
        "ada_auc_results = []\n",
        "n_estimator = [50,100,150,200,250,300,350,400,450,500]\n",
        "\n",
        "for trees in n_estimator:\n",
        "    ada_model = AdaBoostClassifier(n_estimators=trees, random_state=101)\n",
        "    ada_model.fit(x_train, y_train)\n",
        "    y_pred = ada_model.predict(x_test)\n",
        "    auc = roc_auc_score(y_test, y_pred)\n",
        "    ada_auc_results.append(auc)\n",
        "\n",
        "plt.figure(figsize=(8,4))\n",
        "pd.Series(ada_auc_results, n_estimator).plot(color='orange',marker='o', grid=True)\n",
        "plt.show()"
      ],
      "metadata": {
        "colab": {
          "base_uri": "https://localhost:8080/",
          "height": 265
        },
        "id": "I0V-cVbTwO_1",
        "outputId": "3cb83da3-035b-43de-adb2-f4f97410daec"
      },
      "execution_count": 18,
      "outputs": [
        {
          "output_type": "display_data",
          "data": {
            "text/plain": [
              "<Figure size 576x288 with 1 Axes>"
            ],
            "image/png": "[encoded data removed]"
          },
          "metadata": {
            "needs_background": "light"
          }
        }
      ]
    },
    {
      "cell_type": "markdown",
      "source": [
        "**ADABOOST**\n",
        "1. Write your observations about the Classifier’s behavior with respect to the number of estimators.\n",
        "\n",
        "Looking at adaboost accuracy we can see it has its highest peak at 150 estimators than heads downward and then hits a plateau at 300 after a slight increase. For auc we see it steadily climbs until it hits 200 estimators then hits a plateau for the rest of the estimator values.\n",
        "\n",
        "2. Is there an optimal value of the estimator within the given range?\n",
        "\n",
        "Based on the trends of AUC we would likely want anything above 200 estimators. Based on accuracy we can see 300 estimators would provide the highest accuracy for accuracies greater than 200. Therefore 300 wouold be the best for an AdaBoost model."
      ],
      "metadata": {
        "id": "x5BonGX1K3Iy"
      }
    },
    {
      "cell_type": "markdown",
      "source": [
        "##Gradient Boosting Classifier"
      ],
      "metadata": {
        "id": "QuEBQKzROkAI"
      }
    },
    {
      "cell_type": "code",
      "source": [
        "#Gradient Boosting Classifier: N_Estimators vs Accuracy\n",
        "#This code uses Gradient Boosting Classifier to test and determine the optimal number of n_estimators based on accuracy\n",
        "from sklearn.ensemble import GradientBoostingClassifier\n",
        "\n",
        "gbc_results = []\n",
        "n_estimator = [50,100,150,200,250,300,350,400,450,500]\n",
        "\n",
        "for trees in n_estimator:\n",
        "    gbc_model = GradientBoostingClassifier(n_estimators=trees, random_state=101)\n",
        "    gbc_model.fit(x_train, y_train)\n",
        "    y_pred = gbc_model.predict(x_test)\n",
        "    accuracy = np.mean(y_test==y_pred)\n",
        "    gbc_results.append(accuracy)\n",
        "\n",
        "plt.figure(figsize=(8,4))\n",
        "pd.Series(gbc_results, n_estimator).plot(color='green',marker='x', grid=True)\n",
        "plt.show()"
      ],
      "metadata": {
        "colab": {
          "base_uri": "https://localhost:8080/",
          "height": 265
        },
        "id": "ntlvu7yFlkGx",
        "outputId": "0c36c9f7-c63c-4690-9b80-17725c91983d"
      },
      "execution_count": 19,
      "outputs": [
        {
          "output_type": "display_data",
          "data": {
            "text/plain": [
              "<Figure size 576x288 with 1 Axes>"
            ],
            "image/png": "[encoded data removed]"
          },
          "metadata": {
            "needs_background": "light"
          }
        }
      ]
    },
    {
      "cell_type": "code",
      "source": [
        "#Gradient Boosting Classifier: N_Estimators vs AUC\n",
        "#This code uses a Gradient Boosting Classifier to test and determine the optimal number of n_estimators but instead based on auc value\n",
        "gbc_auc_results = []\n",
        "n_estimator = [50,100,150,200,250,300,350,400,450,500]\n",
        "\n",
        "for trees in n_estimator:\n",
        "    gbc_model = GradientBoostingClassifier(n_estimators=trees, random_state=101)\n",
        "    gbc_model.fit(x_train, y_train)\n",
        "    y_pred = gbc_model.predict(x_test)\n",
        "    auc = roc_auc_score(y_test, y_pred)\n",
        "    gbc_auc_results.append(auc)\n",
        "\n",
        "plt.figure(figsize=(8,4))\n",
        "pd.Series(gbc_auc_results, n_estimator).plot(color='green',marker='o', grid=True)\n",
        "plt.show()"
      ],
      "metadata": {
        "colab": {
          "base_uri": "https://localhost:8080/",
          "height": 265
        },
        "id": "EkRnZpgLwavw",
        "outputId": "53984c7f-5f2d-4618-fce9-993fb804aff4"
      },
      "execution_count": 20,
      "outputs": [
        {
          "output_type": "display_data",
          "data": {
            "text/plain": [
              "<Figure size 576x288 with 1 Axes>"
            ],
            "image/png": "[encoded data removed]"
          },
          "metadata": {
            "needs_background": "light"
          }
        }
      ]
    },
    {
      "cell_type": "markdown",
      "source": [
        "**Gradient Booster Classifier**\n",
        "\n",
        "1. Write your observations about the Classifier’s behavior with respect to the number of estimators.\n",
        "\n",
        "Looking at the accuracy of GBC on estimators, it increases to 250 estimators, then trends downward for the rest of the values. AUC value however, climbs to 150 and then plateaus with a slight increase over the rest of the estimators.\n",
        "\n",
        "2. Is there an optimal value of the estimator within the given range?\n",
        "\n",
        "As there is a plateau in auc after 150, we would want to choose a estimator value greater than that. As the highest accuracy occurs at 250, that would be the best number of estimators."
      ],
      "metadata": {
        "id": "CqAOJVAxK4JV"
      }
    },
    {
      "cell_type": "markdown",
      "source": [
        "##XGB"
      ],
      "metadata": {
        "id": "4gc3AS6nO3bm"
      }
    },
    {
      "cell_type": "code",
      "source": [
        "#due to the naming conventions in the feature names xgb was unable to be performed without some additional steps\n",
        "#The purpose of this step is to convert any comma-separated values in the dataframe to a more standardized format\n",
        "import re\n",
        "\n",
        "regex = re.compile(r\"|<\", re.IGNORECASE)\n",
        "x_train.columns = [regex.sub(\"_\", col) if any(x in str(col) for x in set(('[', ']', '<'))) else col for col in x_train.columns.values]\n",
        "x_test.columns = [regex.sub(\"_\", col) if any(x in str(col) for x in set(('[', ']', '<'))) else col for col in x_test.columns.values]\n",
        "\n",
        "df=df.replace(', ','<',regex=True).astype(str)"
      ],
      "metadata": {
        "id": "YdjJSSEiu06N"
      },
      "execution_count": 33,
      "outputs": []
    },
    {
      "cell_type": "code",
      "source": [
        "#XGB Boosting: N_Estimators vs Accuracy\n",
        "#This code uses XGBoosting to test and determine the optimal number of n_estimators based on accuracy\n",
        "xgb_results = []\n",
        "n_estimator = [50,100,150,200,250,300,350,400,450,500]\n",
        "\n",
        "for values in n_estimator:\n",
        "  xgb_model = XGBClassifier(n_estimators=values, random_state=101)\n",
        "  xgb_model.fit(x_train, y_train)\n",
        "  y_pred = xgb_model.predict(x_test)\n",
        "  accuracy = np.mean(y_test==y_pred)\n",
        "  xgb_results.append(accuracy)\n",
        "\n",
        "\n",
        "plt.figure(figsize=(8,4))\n",
        "pd.Series(xgb_results, n_estimator).plot(color='purple', marker = 'x',grid=True)\n",
        "plt.show()"
      ],
      "metadata": {
        "colab": {
          "base_uri": "https://localhost:8080/",
          "height": 265
        },
        "id": "xXa32j0YvVpa",
        "outputId": "e6dab35c-8c01-4415-add8-11ecda18b146"
      },
      "execution_count": 41,
      "outputs": [
        {
          "output_type": "display_data",
          "data": {
            "text/plain": [
              "<Figure size 576x288 with 1 Axes>"
            ],
            "image/png": "[encoded data removed]"
          },
          "metadata": {
            "needs_background": "light"
          }
        }
      ]
    },
    {
      "cell_type": "code",
      "source": [
        "#XGB Boosting: N_Estimators vs AUC\n",
        "#This code uses a XGBoosting to test and determine the optimal number of n_estimators but instead based on auc value\n",
        "xgb_auc_results = []\n",
        "n_estimator = [50,100,150,200,250,300,350,400,450,500]\n",
        "\n",
        "for values in n_estimator:\n",
        "  xgb_model = XGBClassifier(n_estimators=values, random_state=101)\n",
        "  xgb_model.fit(x_train, y_train)\n",
        "  y_pred = xgb_model.predict(x_test)\n",
        "  auc = roc_auc_score(y_test, y_pred)\n",
        "  xgb_auc_results.append(auc)\n",
        "\n",
        "plt.figure(figsize=(8,4))\n",
        "pd.Series(xgb_auc_results, n_estimator).plot(color='purple', marker = 'o',grid=True)\n",
        "plt.show()"
      ],
      "metadata": {
        "colab": {
          "base_uri": "https://localhost:8080/",
          "height": 265
        },
        "id": "l7WW76Umwue1",
        "outputId": "d298b7dd-c3fa-40d8-9845-0d14cba698d9"
      },
      "execution_count": 42,
      "outputs": [
        {
          "output_type": "display_data",
          "data": {
            "text/plain": [
              "<Figure size 576x288 with 1 Axes>"
            ],
            "image/png": "[encoded data removed]"
          },
          "metadata": {
            "needs_background": "light"
          }
        }
      ]
    },
    {
      "cell_type": "markdown",
      "source": [
        "**XGB**\n",
        "\n",
        "1. Write your observations about the Classifier’s behavior with respect to the number of estimators.\n",
        "\n",
        "From our accuracy graph we can see there is a steady increase until 400 then from there has a slight decline after the peak. For the auc we can see there is a once again a similar trend of a slight increase to 400 then a slight plateau afterward.\n",
        "\n",
        "2. Is there an optimal value of the estimator within the given range?\n",
        "\n",
        "As from looking at the two graphs, we can see that both either peak at 400 or plateau beginning at 400. Because of this we can conclude 400 would be the best estimator."
      ],
      "metadata": {
        "id": "VQc2RmrYK6ce"
      }
    },
    {
      "cell_type": "markdown",
      "source": [
        "#5. Comparing Performance"
      ],
      "metadata": {
        "id": "GdAk_rM4xHMY"
      }
    },
    {
      "cell_type": "markdown",
      "source": [
        "The final step is to take the final accuracy and auc score of each of the four models previously created in the steps above. This time we will run the model again but using the optimal number of estimators found for each of the models above. We will also continue using the random state of 101 that has been used throughout each model."
      ],
      "metadata": {
        "id": "Bz_xhke7To5F"
      }
    },
    {
      "cell_type": "code",
      "source": [
        "#Random Forest Classifier\n",
        "rfc_model = RandomForestClassifier(random_state = 101, n_estimators = 450)\n",
        "rfc_model.fit(x_train, y_train)\n",
        "y_pred = rfc_model.predict(x_test)\n",
        "                        \n",
        "rfc_acc = np.mean(y_test==y_pred).round(4)\n",
        "rfc_auc = roc_auc_score(y_test, y_pred).round(4)"
      ],
      "metadata": {
        "id": "SHpg8BywxjKc"
      },
      "execution_count": 36,
      "outputs": []
    },
    {
      "cell_type": "code",
      "source": [
        "#AdaBoost\n",
        "ada_model = AdaBoostClassifier(random_state =101, n_estimators = 300)\n",
        "ada_model.fit(x_train, y_train)\n",
        "y_pred = ada_model.predict(x_test)\n",
        "\n",
        "ada_acc = np.mean(y_test==y_pred).round(4)\n",
        "ada_auc = roc_auc_score(y_test, y_pred).round(4)"
      ],
      "metadata": {
        "id": "9SaMdsOv2RL1"
      },
      "execution_count": 37,
      "outputs": []
    },
    {
      "cell_type": "code",
      "source": [
        "#Gradient Boosting Classifier\n",
        "gbc_model = GradientBoostingClassifier(random_state =101, n_estimators = 250)\n",
        "gbc_model.fit(x_train, y_train)\n",
        "y_pred = gbc_model.predict(x_test)\n",
        "\n",
        "gbc_acc = np.mean(y_test==y_pred).round(4)\n",
        "gbc_auc = roc_auc_score(y_test, y_pred).round(4)"
      ],
      "metadata": {
        "id": "cdjYiDil2Tec"
      },
      "execution_count": 38,
      "outputs": []
    },
    {
      "cell_type": "code",
      "source": [
        "#XGB\n",
        "xgb_model = XGBClassifier(random_state=101, n_estimators=400)\n",
        "xgb_model.fit(x_train, y_train)\n",
        "y_pred = xgb_model.predict(x_test)\n",
        "\n",
        "xgb_acc = np.mean(y_test==y_pred).round(4)\n",
        "xgb_auc = roc_auc_score(y_test, y_pred).round(4)"
      ],
      "metadata": {
        "id": "4LvLcpqr2VPu"
      },
      "execution_count": 39,
      "outputs": []
    },
    {
      "cell_type": "markdown",
      "source": [
        "Lastly we create an output table that displays the accuracy score and auc value."
      ],
      "metadata": {
        "id": "egq5rkjtVs7R"
      }
    },
    {
      "cell_type": "code",
      "source": [
        "#create a pandas Data Frame of all of the values collected from running the models with the best number of estimators\n",
        "acc_vs_auc = pd.DataFrame(\n",
        "     {'Random Forest': [rfc_acc, rfc_auc],\n",
        "      'AdaBoost': [ada_acc, ada_auc],\n",
        "      'Gradient Boost': [gbc_acc, gbc_auc],\n",
        "      'XGB': [xgb_acc, xgb_auc]},\n",
        "      index=['Accuracy', 'AUC'])\n",
        "\n",
        "print(acc_vs_auc)"
      ],
      "metadata": {
        "colab": {
          "base_uri": "https://localhost:8080/"
        },
        "id": "1Uft2ocH2Wmu",
        "outputId": "414811cf-a6cb-48ca-f241-5f407a28c026"
      },
      "execution_count": 40,
      "outputs": [
        {
          "output_type": "stream",
          "name": "stdout",
          "text": [
            "          Random Forest  AdaBoost  Gradient Boost     XGB\n",
            "Accuracy         0.8382    0.8452          0.8467  0.8468\n",
            "AUC              0.7462    0.7465          0.7568  0.7585\n"
          ]
        }
      ]
    },
    {
      "cell_type": "markdown",
      "source": [
        "**Conclusion**\n",
        "\n",
        "From all of the models, we can see that not only did XGB have the best accuracy of .8468 but it also had the best AUC as well of .7585 . "
      ],
      "metadata": {
        "id": "XQjZWQxIW6iw"
      }
    }
  ]
}